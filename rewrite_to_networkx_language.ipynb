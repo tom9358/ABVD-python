{
  "nbformat": 4,
  "nbformat_minor": 0,
  "metadata": {
    "colab": {
      "name": "rewrite to networkx language",
      "provenance": [],
      "collapsed_sections": [],
      "authorship_tag": "ABX9TyPbbIoPHFSpVNc9k8fxMXjV",
      "include_colab_link": true
    },
    "kernelspec": {
      "name": "python3",
      "display_name": "Python 3"
    },
    "language_info": {
      "name": "python"
    }
  },
  "cells": [
    {
      "cell_type": "markdown",
      "metadata": {
        "id": "view-in-github",
        "colab_type": "text"
      },
      "source": [
        "<a href=\"https://colab.research.google.com/github/tom9358/ABVD-python/blob/main/rewrite_to_networkx_language.ipynb\" target=\"_parent\"><img src=\"https://colab.research.google.com/assets/colab-badge.svg\" alt=\"Open In Colab\"/></a>"
      ]
    },
    {
      "cell_type": "code",
      "source": [
        "import numpy as np\n",
        "from tqdm import tqdm #progress bars\n",
        "import matplotlib.pyplot as plt\n",
        "import networkx as nx\n",
        "rng = np.random.default_rng() #the internet says this is more proper than using np.random"
      ],
      "metadata": {
        "id": "k2FkPV1QjPkR"
      },
      "execution_count": 3,
      "outputs": []
    },
    {
      "cell_type": "code",
      "source": [
        "a=0.1+0.2\n",
        "a <= 0.3"
      ],
      "metadata": {
        "colab": {
          "base_uri": "https://localhost:8080/"
        },
        "id": "OQLFe5vsLUIT",
        "outputId": "a4ae1aee-7dba-423c-992e-6f3fd6d13617"
      },
      "execution_count": 7,
      "outputs": [
        {
          "output_type": "execute_result",
          "data": {
            "text/plain": [
              "False"
            ]
          },
          "metadata": {},
          "execution_count": 7
        }
      ]
    },
    {
      "cell_type": "code",
      "source": [
        "#handy conversion functions that don't do much\n",
        "def int_to_bool_list(num):\n",
        "    \"\"\"converts base-10 number to a list of 1 and 0 (the base-2 representation)\"\"\"\n",
        "    bin_string = format(num, '0'+str(n)+'b')\n",
        "    return [1 if x=='1' else 0 for x in bin_string]\n",
        "\n",
        "def list_to_int(data):\n",
        "    \"\"\"returns the integer corresponding to a list of booleans\"\"\"\n",
        "    return int(''.join(['1' if i else '0' for i in data]),2)\n",
        "\n",
        "def state_to_latex(state):\n",
        "    \"\"\"turns the array notation (e.g. [[0,1],[1,0]]) into the familiar bunch of ones and zeros with bars on top\"\"\"\n",
        "    string = ''\n",
        "    for mbit in state.T:\n",
        "        if mbit[1]: string+='\\\\widebar{'+str(mbit[0])+'}\\,'\n",
        "        else: string+=str(mbit[0])\n",
        "    return '$'+string+'$'\n",
        "\n",
        "def zerotominusone(arr):\n",
        "    \"\"\"turns [1,0] into [1,-1]\"\"\"\n",
        "    return [1 if i else -1 for i in arr]"
      ],
      "metadata": {
        "id": "7gZpwsp3Ca0y"
      },
      "execution_count": 8,
      "outputs": []
    },
    {
      "cell_type": "code",
      "source": [
        "def emptygraph(n, plot=False):\n",
        "    \"\"\"generate an empty graph and a dictionary with coordinates for plotting\"\"\"\n",
        "    G = nx.MultiDiGraph()\n",
        "    pos = {}\n",
        "    for i in range(2**n):\n",
        "        for j in range(2**n):\n",
        "            latexnode = state_to_latex(np.array([int_to_bool_list(i),int_to_bool_list(j)]))\n",
        "            G.add_node((i,j), reached=False, bits = np.array(int_to_bool_list(i)), bars = np.array(int_to_bool_list(j)), latexnode=latexnode)\n",
        "            pos.update({(i,j):(i,j)})\n",
        "    if plot:\n",
        "        plt.figure(figsize=(15,10), dpi=50)\n",
        "        nx.draw_networkx(G, pos, node_size=0, font_size=15, font_color='darkgray', labels=nx.get_node_attributes(G,'latexnode'))\n",
        "        plt.axis(\"off\")\n",
        "        plt.savefig(\"empty graph n=\"+str(n)+\".png\")\n",
        "        plt.show()\n",
        "    return G, pos"
      ],
      "metadata": {
        "id": "U9bLk1In2dzE"
      },
      "execution_count": 9,
      "outputs": []
    },
    {
      "cell_type": "code",
      "source": [
        "def walktree(state_ind):\n",
        "    if G.nodes[state_ind]['reached']==True:\n",
        "        #not sure if this is the right check, as the same state may have different transitions depending on U_current\n",
        "        return\n",
        "    pull_ind = pushpull(state_ind, 'pull')\n",
        "    push_ind = pushpull(state_ind, 'push')\n",
        "    walktree(pull_ind)\n",
        "    walktree(push_ind)\n",
        "\n",
        "def pushpull(state_ind, edgetype):\n",
        "    node = G.nodes[state_ind]\n",
        "    node['reached']=True\n",
        "    bit = np.copy(node['bits'])\n",
        "    bar = np.copy(node['bars'])\n",
        "    if edgetype=='push' and not all(bar):\n",
        "        i = np.where(bar==0, U[1,:,state_ind[0]], np.inf).argmin()\n",
        "        U_current = U[1,:,state_ind[0]][i]\n",
        "        bit[i]=(bit[i]+1)%2\n",
        "    elif edgetype=='pull' and any(bar):\n",
        "        i = np.where(bar==1, U[0,:,state_ind[0]], -np.inf).argmax()\n",
        "        U_current = U[0,:,state_ind[0]][i]\n",
        "    else: return state_ind\n",
        "    bar[i]=(bar[i]+1)%2\n",
        "    state_ind_new = (list_to_int(bit),list_to_int(bar))\n",
        "    via = [state_ind,state_ind_new] #track though which virtual states the transition goes\n",
        "    state_ind_new, via = checkstable(state_ind_new, bit, bar, U_current, i, via) #check if the new state is stable.\n",
        "    G.add_edge(state_ind, state_ind_new, direction=edgetype, via=via, transition_length=len(via))\n",
        "    return state_ind_new\n",
        "\n",
        "def checkstable(state_ind, bit, bar, U_current, i, via):\n",
        "    willrelax = np.multiply(U[0,:,state_ind[0]]>U_current, bar==1) #are there any U_r above U_current?\n",
        "    willsnap  = np.multiply(U[1,:,state_ind[0]]<U_current, bar==0) #are there any U_s below U_current?\n",
        "    if willrelax[i] or willsnap[i]:\n",
        "        print(\"mbit\",i,\"wants to self loop\")\n",
        "        1/0 #I don't know how to properly stop the code :)\n",
        "    if sum(willrelax)+sum(willsnap)>1:\n",
        "        print(\"multiple mbits want to change state at once\")\n",
        "        1/0\n",
        "    elif all(~willrelax) and all(~willsnap):#if it's a stable state\n",
        "        return state_ind, via\n",
        "    elif sum(willrelax)==0 and sum(willsnap)==1:\n",
        "        j=np.where(willsnap)\n",
        "        bit[j]=(bit[j]+1)%2\n",
        "    elif sum(willrelax)==1 and sum(willsnap)==0:\n",
        "        j=np.where(willrelax)\n",
        "    bar[j]=(bar[j]+1)%2\n",
        "    state_ind_new = (list_to_int(bit),list_to_int(bar))\n",
        "    via.append(state_ind_new)\n",
        "    return checkstable(state_ind_new, bit, bar, U_current, j, via)\n"
      ],
      "metadata": {
        "id": "qTq6snnsE3G7"
      },
      "execution_count": null,
      "outputs": []
    },
    {
      "cell_type": "code",
      "source": [
        "n=2\n",
        "#calculate the switching fields for all states\n",
        "allbits = np.array([zerotominusone(int_to_bool_list(i)) for i in range(2**n)]).T\n",
        "#since floats cannot be compared, I decided to just multiply by 100 and use integers. I'm not saying it's a neat solution\n",
        "u_r = np.array([50,40], ndmin=2).T\n",
        "u_s = np.array([80,60], ndmin=2).T\n",
        "u_bare = np.array([u_r, u_s])\n",
        "C = np.zeros((n,n), dtype=np.int8)\n",
        "C[0,1] = 0\n",
        "U = u_bare - np.dot(C, allbits) #reminder: U is [push/pull, mbit, bit configuration]. bars are absent"
      ],
      "metadata": {
        "id": "iGidi_fDFQ8_"
      },
      "execution_count": null,
      "outputs": []
    },
    {
      "cell_type": "code",
      "source": [
        "G_base, pos = emptygraph(n)#, True\n",
        "G = G_base.copy()\n",
        "init_ind = (0,0)\n",
        "\n",
        "walktree(init_ind)"
      ],
      "metadata": {
        "id": "5XA8Xq3PHTLs"
      },
      "execution_count": null,
      "outputs": []
    },
    {
      "cell_type": "code",
      "source": [
        "plt.figure(figsize=(15,10), dpi=90)\n",
        "G_reached = G.copy()\n",
        "for x,y in G.nodes(data=True):\n",
        "    if not y[\"reached\"]: G_reached.remove_node(x)\n",
        "plt.figure(figsize=(25,15), dpi=50)\n",
        "nx.draw_networkx(G_base, pos, node_size=0, font_size=15, font_color='darkgray', labels=nx.get_node_attributes(G,'latexnode'))\n",
        "nx.draw_networkx(G_reached, pos, node_size=1000,\n",
        "                 font_size=15,\n",
        "                 font_color='black',\n",
        "                 labels=nx.get_node_attributes(G_reached,'latexnode'),\n",
        "                 connectionstyle=\"arc3,rad=.08\",\n",
        "                 node_color='lightblue',\n",
        "                 alpha=0.95,\n",
        "                 arrowsize=30,\n",
        "                 width=np.array(list(nx.get_edge_attributes(G_reached,'transition_length').values()))**2/2,\n",
        "                 edge_color=['red' if direction=='pull' else 'blue' for direction in nx.get_edge_attributes(G_reached,'direction').values()])\n",
        "plt.axis(\"off\")\n",
        "plt.savefig('n'+str(n)+' r'+str(u_r)+' s'+str(u_s)+' C'+str(C)+\".png\")\n",
        "plt.show()"
      ],
      "metadata": {
        "colab": {
          "base_uri": "https://localhost:8080/",
          "height": 599
        },
        "id": "kdZRIO4syB7m",
        "outputId": "093f9ff0-f4f2-4175-a425-afa2e538d049"
      },
      "execution_count": null,
      "outputs": [
        {
          "output_type": "display_data",
          "data": {
            "text/plain": [
              "<Figure size 1350x900 with 0 Axes>"
            ]
          },
          "metadata": {}
        },
        {
          "output_type": "display_data",
          "data": {
            "text/plain": [
              "<Figure size 1250x750 with 1 Axes>"
            ],
            "image/png": "[encoded data removed]"
          },
          "metadata": {}
        }
      ]
    },
    {
      "cell_type": "code",
      "source": [
        "nx.is_isomorphic(G_old, G_reached)\n",
        "#isomorphy is too general. graphs G and H are \"mechanically isomorphic\" if they can be transformed into each other by permuting the mbits. (that's enough right?)"
      ],
      "metadata": {
        "colab": {
          "base_uri": "https://localhost:8080/"
        },
        "id": "53CypdC4c_TX",
        "outputId": "431e70bc-f62a-428e-d848-36d37d573d79"
      },
      "execution_count": null,
      "outputs": [
        {
          "output_type": "execute_result",
          "data": {
            "text/plain": [
              "True"
            ]
          },
          "metadata": {},
          "execution_count": 16
        }
      ]
    },
    {
      "cell_type": "code",
      "source": [
        "print(C,'\\n')\n",
        "print(u_r.T,'\\n')\n",
        "print(u_s.T)"
      ],
      "metadata": {
        "colab": {
          "base_uri": "https://localhost:8080/"
        },
        "id": "dhyVi8fhKICf",
        "outputId": "982dfc7d-5a31-4555-bbdc-6db150499a2d"
      },
      "execution_count": null,
      "outputs": [
        {
          "output_type": "stream",
          "name": "stdout",
          "text": [
            "[[0 0]\n",
            " [0 0]] \n",
            "\n",
            "[[40 50]] \n",
            "\n",
            "[[80 60]]\n"
          ]
        }
      ]
    },
    {
      "cell_type": "code",
      "source": [
        "#just a readable output of the switching fields, for drawing a graph by hand\n",
        "for i_state in range(2**n):\n",
        "    print(\"state: \",end='')\n",
        "    for mbit in int_to_bool_list(i_state): print(mbit,end='')\n",
        "    print()\n",
        "    for i_pushpull in range(2):\n",
        "        if i_pushpull: pushpull=\"push\"\n",
        "        else: pushpull=\"pull\"\n",
        "        print(pushpull, U[i_pushpull,:,i_state])\n",
        "    print()"
      ],
      "metadata": {
        "colab": {
          "base_uri": "https://localhost:8080/"
        },
        "id": "g7P0hVQnFVR4",
        "outputId": "6dc294da-1078-4a14-d4ab-133880fa4515"
      },
      "execution_count": null,
      "outputs": [
        {
          "output_type": "stream",
          "name": "stdout",
          "text": [
            "state: 00\n",
            "pull [40 50]\n",
            "push [80 60]\n",
            "\n",
            "state: 01\n",
            "pull [40 50]\n",
            "push [80 60]\n",
            "\n",
            "state: 10\n",
            "pull [40 50]\n",
            "push [80 60]\n",
            "\n",
            "state: 11\n",
            "pull [40 50]\n",
            "push [80 60]\n",
            "\n"
          ]
        }
      ]
    },
    {
      "cell_type": "code",
      "source": [
        "U_r = U[0]\n",
        "U_s = U[1]\n",
        "#visualization of the ordering of the strain thresholds:\n",
        "plt.figure(figsize=(12,8))#, dpi=50)\n",
        "for j in range(2**n):\n",
        "    plt.text(-30,j+2,format(j, '0'+str(n)+'b')+':')\n",
        "    for i,x in enumerate(U_r.T[j]): plt.text(x,j+2,'$r_'+str(i)+'$')\n",
        "    for i,x in enumerate(U_s.T[j]): plt.text(x,j+2,'$s_'+str(i)+'$')\n",
        "plt.gca().get_yaxis().set_visible(False)\n",
        "plt.xlim([0,U.max()+20])\n",
        "plt.ylim([0,2**n+2])\n",
        "plt.eventplot(u_r.T, color='red')\n",
        "plt.eventplot(u_s.T)\n",
        "plt.text(-30,1,'bare:')\n",
        "for i,x in enumerate(u_r): plt.text(x,.5,'$r_'+str(i)+'$')\n",
        "for i,x in enumerate(u_s): plt.text(x,.5,'$s_'+str(i)+'$')\n",
        "#plt.axhline(150, linewidth=1)\n",
        "#plt.show()\n",
        "plt.savefig(\"visualization switching fields n=\"+str(n)+\".png\")"
      ],
      "metadata": {
        "colab": {
          "base_uri": "https://localhost:8080/",
          "height": 483
        },
        "id": "y5nQ_K7E4JE_",
        "outputId": "453ae68a-065e-4471-d0a6-46c38beb8e98"
      },
      "execution_count": null,
      "outputs": [
        {
          "output_type": "display_data",
          "data": {
            "text/plain": [
              "<Figure size 864x576 with 1 Axes>"
            ],
            "image/png": "[encoded data removed]"
          },
          "metadata": {
            "needs_background": "light"
          }
        }
      ]
    },
    {
      "cell_type": "code",
      "source": [
        "#scrap kladblok cell\n",
        "\n",
        "G, pos = emptygraph(n)\n",
        "U_current = 0\n",
        "state_ind = (0,4)\n",
        "node = G.nodes[state_ind]\n",
        "\n",
        "edgetype='push'\n",
        "\n",
        "bit = np.copy(node['bits'])\n",
        "bar = np.copy(node['bars'])\n",
        "print(bit,bar)\n",
        "if edgetype=='push':\n",
        "    #find which mbit without bar has the smallest U_s that's bigger than U_current #<- this is not true right\n",
        "    #because here we don't (need to?) consider what the current U is (or should we? het kan..)\n",
        "    #(treat states with a bar as if their switching field is infinite)\n",
        "    i = np.where(bar==0, U[1,:,state_ind[0]], np.inf).argmin()\n",
        "    U_current = U[1,:,state_ind[0]][i]\n",
        "    #print(np.where(bar==0, U[1,:,state_ind[0]],  np.inf))#debug\n",
        "    #print(edgetype,i)#debug\n",
        "    bit[i]=(bit[i]+1)%2\n",
        "if edgetype=='pull':\n",
        "    #find which mbit with a bar has the largest U_r that is smaller than U_current\n",
        "    #(treat states without bar as if the switching field is -infinite)\n",
        "    i = np.where(bar==1, U[0,:,state_ind[0]], -np.inf).argmax()\n",
        "    U_current = U[0,:,state_ind[0]][i]\n",
        "    #print(np.where(bar==1, U[0,:,state_ind[0]],  -np.inf))#debug\n",
        "    #print(edgetype,i)#debug\n",
        "bar[i]=(bar[i]+1)%2\n",
        "print(bit,bar)\n",
        "state_ind_new = (list_to_int(bit),list_to_int(bar))\n",
        "print(state_ind_new)\n",
        "print()\n",
        "print(checkstable(state_ind_new,bit,bar,U_current,i))\n",
        "\n",
        "G.add_edge(state_ind, state_ind_new)\n",
        "node['reached']=True\n",
        "G.nodes[state_ind_new]['reached']=True\n",
        "print(node)\n",
        "print(G.nodes[state_ind_new])"
      ],
      "metadata": {
        "id": "3LAG8yYeUZ2v"
      },
      "execution_count": null,
      "outputs": []
    },
    {
      "cell_type": "code",
      "source": [
        "#not needed anymore I suppose\n",
        "#every state can be further compressed or relaxed, so a binary tree represents all possible actions that can be taken\n",
        "class Node:\n",
        "    def __init__(self, state, strain, parent = None, notnew = False):\n",
        "        self.parent = parent\n",
        "        self.push = None\n",
        "        self.pull = None\n",
        "        self.state = state\n",
        "        self.strain = strain\n",
        "        self.notnew = notnew"
      ],
      "metadata": {
        "id": "R2FoBy5enaxp"
      },
      "execution_count": null,
      "outputs": []
    }
  ]
}